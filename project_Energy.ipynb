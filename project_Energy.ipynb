{
 "cells": [
  {
   "cell_type": "markdown",
   "metadata": {},
   "source": [
    "# 10/May/2022 \n",
    "# Data Mining final Project: Molecular energy prediction\n",
    "\n",
    "For the project you are going to work in groups of 2.\n",
    "\n",
    "## Aim\n",
    "In this project you are going to work with molecular data and you have to predict the electronic energy of the coordinates (Energy_)  and the free energy corrected energy at room temperature (Energy DG).\n",
    "\n",
    "## Data Description\n",
    "The given dataset (data.csv) consists of  a set of formatted values for $10.000$ molecules/SMILES but for each molecule there are more than one coordinate set. This results in multiple descriptors and energies for each molecule. For your analysis you should use only the instance with the lowest energy (Energy_) per input molecule.\n",
    "\n",
    "\n",
    "\n",
    "The dataset consists of the following attributes:\n",
    "\n",
    "- The simplified molecular-input line-entry system (SMILES) for the input molecules \n",
    "\n",
    "\t- Chiral\\_Molecular\\_SMILES  - This is the fully defined SMILES for the molecule\n",
    "    \n",
    "- the following energy values:\n",
    "\t- Energy\\_(kcal/mol) - This is the electronic energy of the coordinates (target1)\n",
    "\t- Zero\\_point\\_energy\\_(kcal/mol@0K) - This is the thermal correction at 0 K. It accounts for vibrations of the molecule\n",
    "\t- Enthalpy\\_(kcal/mol@298K) - This is the thermal correction at room temperature. It accounts for the population of vibrational states at this \ttemperature\n",
    "\t- Gibbs\\_energy\\_(kcal/mol@298K) - This is the thermal correction including entropy at room temperature\n",
    "\t- Energy DG (kcal/mol) - This is the sum of Energy and Gibbs\\_energy,i.e. free energy corrected energy at room temperature (target2)\n",
    "    \n",
    "-  electronic descriptors derived from quantum chemistry:\n",
    "\t- Core\\_Core\\_Repulsion\\_(kcal/mol) -  The interaction energy of the nuclei     \n",
    "\t- Core\\_Hamiltonian\\_(kcal/mol) - Interaction of 1 electron with each orbital summed\n",
    "\t- Two\\_Electron\\_Integral\\_(kcal/mol) - interaction of 2 electrons with the nuclei and each other  \n",
    "\t- Electronic\\_Energy\\_(kcal/mol) Heat\\_of\\_Formation\\_ (kcal/mol) - All interactions considered\n",
    "\t- HOMO\\_Energy\\_\\_(eV) -  The potential of the highest orbital with electrons (Highest Occupied Molecular Orbital)\n",
    "\t- LUMO\\_Energy\\_(eV) - The potential of the lowest unoccupied orbital  \n",
    "\t- H-L\\_Gap\\_(eV) - The difference in these values already computed\n",
    "    \n",
    "- [3D descriptors directly from RDKit](https://www.rdkit.org/docs/source/rdkit.Chem.Descriptors3D.html):\n",
    "\t- PMI1\n",
    "\t- PMI2\n",
    "\t- PMI3\n",
    "\t- NPR1\n",
    "\t- NPR2\n",
    "\t- Radius\\_of\\_Gyration\n",
    "\t- Inertial\\_Shape\\_Factor Spherocity\\_Index \n",
    "\t- Asphericity\n",
    "\t- Eccentricity\n",
    "\n",
    "\n",
    "## Model\n",
    "\n",
    "You are free to chose the representation of the data that you are going to use. If you want to work with one-hot-encoding data (see project.pdf for details) you can find the code to convert a single smile string to a one-hot encoding in `smile_to_hot()` function at `utils.py`.\n",
    " You can even use as input data different properties and descriptors (number of bonds,  number of atoms,  number of C, number of O e.t.c. )  that you can extract from your data  manually or using RDKit.  (The properties that we mention are random examples,  there are much more properties and descriptors for the molecules and you have to think what it makes sense for you to use). \n",
    "\n",
    "You are free to try different approaches and models,  you can use ready libraries for your algorithm. The main focus is to see the model you have come up but also the other approaches that you tried. You have to understand deeply all the algorithms that you have tried. \n",
    "\n",
    "\n",
    "\n",
    "After cleaning the data, using load\\_data() function in utils.py split the data into train and test.  Use **cross-validation** and to select the best model based on **statistical significant test**.  Only for the best model you will use the test data (of course you have to include in your report and present all the models that you have tried).  **It is mandatory to use three or more different algorithms in addition to a baseline**. \n",
    "\n",
    "(The baseline is the naive baseline algorithm,  providing context on just how good a given method actually is.)\n",
    "\n",
    "\n",
    "The final model we would expect is a model that can work on universal data,  which means it can give a reasonable prediction on different molecular datasets.\n",
    " \n",
    "\n",
    "\n",
    "## Report\n",
    "You have to submit a formal report .  Your report has to include the approaches that you followed and main results not only for your final model but for all the models you have tried. We want a full picture of what exactly you have done and how. You should also discuss the different performances you have with your methods and explain why these work or not. What is important is to show us that you have a good understanding of the problem and of how to model it, what are the problems you encountered and how you solved them.\n",
    "\n",
    "\n",
    "Note that this is an open project, you can try many different approaches as long as they make sense to get the best performance (creative ideas are always welcome).\n",
    "\n",
    "## Final submission\n",
    "For your final submission you have to submit on Moodle a folder named using your names (ex. NAME1_NAME2_DM_project) which should include your code (all the scripts), the dataset and your report (the report should also be saved using your names: NAME1_NAME2_DM_project.pdf).  If the size of your submission is big you can upload your submission on [SWITCH drive](https://www.switch.ch) and put on Moodle the shared link. "
   ]
  },
  {
   "cell_type": "markdown",
   "metadata": {},
   "source": [
    "## Installation Instructions\n",
    "Below you will find some instructions about how to install some packages that required for the project through Conda.\n",
    "\n",
    "[Conda](https://docs.conda.io/en/latest/) is a package manager that works on all the popular operating systems. If you do not already have it installed (e.g. through Anaconda) you can install it via Miniconda by following the instructions [here](https://docs.conda.io/en/latest/miniconda.html) -- it doesn't matter which version of Python you pick at this stage.  We can then setup the particular environment  using the [Conda yml file](https://docs.conda.io/projects/conda/en/latest/user-guide/tasks/manage-environments.html#creating-an-environment-from-an-environment-yml-file) I put in the folder of the project.\n",
    "\n",
    "\n",
    "Assuming you have Conda installed,  install the environment by:\n",
    "\n",
    "1. `conda env create -f DM_project_env.yml`\n",
    "2. `conda activate DM_project`\n",
    "3. And then finally check it worked correctly by running \\$ `conda env list`\n",
    "\n",
    "To **activate your enviroment** type: `$ conda activate DM_project`\n",
    "and to deactivete it you should type `$ conda deactivate`\n",
    "\n",
    "\n"
   ]
  },
  {
   "cell_type": "code",
   "execution_count": 1,
   "metadata": {},
   "outputs": [],
   "source": [
    "import numpy as np\n",
    "import pandas as pd\n",
    "import matplotlib.pylab as plt\n"
   ]
  },
  {
   "cell_type": "code",
   "execution_count": 2,
   "metadata": {},
   "outputs": [
    {
     "name": "stdout",
     "output_type": "stream",
     "text": [
      "2020.03.1\n"
     ]
    }
   ],
   "source": [
    "# import the parts of RDKit that we need\n",
    "import rdkit\n",
    "from rdkit import Chem\n",
    "from rdkit.Chem import AllChem\n",
    "from rdkit.Chem import Draw\n",
    "from rdkit.Chem import PandasTools\n",
    "from rdkit.Chem import Descriptors\n",
    "from rdkit import DataStructs\n",
    "from rdkit.Chem.Draw import IPythonConsole\n",
    "from rdkit.Chem import rdDepictor, rdMolDescriptors\n",
    "\n",
    "\n",
    "from rdkit.Chem.Draw import IPythonConsole\n",
    "\n",
    "\n",
    "import time\n",
    "rdDepictor.SetPreferCoordGen(True)\n",
    "print(rdkit.__version__)\n"
   ]
  },
  {
   "cell_type": "markdown",
   "metadata": {},
   "source": [
    "If get an error runing the previous cell \n",
    "- first check that you have installed correctly your enviroment (check if you can see it if you type in your termilal `$ conda env list`). \n",
    "- If the enviroment is installed correctly make sure that you have activated it (`$ conda activate DM_project`) before you opened the jupyter notebook."
   ]
  },
  {
   "cell_type": "markdown",
   "metadata": {},
   "source": [
    "\n",
    "##  Reading in SMILES strings\n",
    "\n",
    "SMILES (Simplified molecular-input line-entry system) proposed by Weininger (1988) is a popular method to represent molecules as ASCII strings. The string is created by printing out the nodes found on a traversal of the molecular graph. The idea behind is to use simple line notations for chemical formulas that are based on some rules.\n",
    "\n",
    "\n",
    "Atoms of chemical elements are represented by chemical symbols in capital letter, hydrogen is usually ignored. Single bonds are not displayed; for double, triple and quadruple bonds we shall use '=', '#', '$' respectively. Atoms that are bonded must stand nearby. Ring structures are written by breaking each ring at an arbitrary point (although some choices will lead to a more legible SMILES than others) to make a 'straight non-ring' structure (as if it wasn't a ring) and adding numerical ring closure labels to show connectivity between non-adjacent atoms. Aromacity is commonly illustrated by writing the constituent B, C, N, O, P and S atoms in lower-case forms b, c, n, o, p and s, respectively.\n",
    "\n",
    "SMILES are typically first converted into a one-hot based representation. The representation of a molecule through a SMILE string is not unique and the non- uniqueness of SMILES arises from a fundamental ambiguity about which atom to start the SMILES string construction. However, it is possible to transform a smile into canonical form (using specific tools such as RDKit).\n"
   ]
  },
  {
   "cell_type": "markdown",
   "metadata": {},
   "source": [
    "## RDKit\n",
    "\n",
    "\n",
    "RDKit is a collection of cheminformatics and machine learning tools written in C++ and Python. It allows to work with many representations of chemical data and has a power to extract almost each chemical descriptor from the data you have. \n",
    "\n",
    "More Informations about how to use RDKit and examples, you can find in the [RDKit documentation](http://www.rdkit.org/docs/index.html).\n",
    "\n",
    "\n",
    "\n"
   ]
  },
  {
   "cell_type": "markdown",
   "metadata": {},
   "source": [
    "### Using RDKit"
   ]
  },
  {
   "cell_type": "markdown",
   "metadata": {},
   "source": [
    "Let's start by defining a string variable containing the SMILES representation of the paracetemol (i.e. acetaminophen) molecule, a popular painkiller and reading it into RDKit.\n"
   ]
  },
  {
   "cell_type": "markdown",
   "metadata": {},
   "source": [
    "### Visualization of molecules\n",
    "\n",
    "In order to visualize the the SMILES we have to convert them to molecules. This happened running `Chem.MolFromSmiles`.\n",
    "\n"
   ]
  },
  {
   "cell_type": "code",
   "execution_count": 3,
   "metadata": {},
   "outputs": [
    {
     "data": {
      "image/png": "[encoded data removed]",
      "text/plain": [
       "<PIL.PngImagePlugin.PngImageFile image mode=RGB size=300x300 at 0x2B3D628B3C8>"
      ]
     },
     "execution_count": 3,
     "metadata": {},
     "output_type": "execute_result"
    }
   ],
   "source": [
    "paracetemol_str = 'CC(=O)Nc1ccc(O)cc1'\n",
    "\n",
    "# convert smile to mol\n",
    "paracetemol_mol = Chem.MolFromSmiles(paracetemol_str)\n",
    "\n",
    "# visualize mol\n",
    "Draw.MolToImage(paracetemol_mol)"
   ]
  },
  {
   "cell_type": "markdown",
   "metadata": {},
   "source": [
    "Once we have converted the SMILES to a RDKit `Mol` object (which happened when running `Chem.MolFromSmiles`) we can manipulate it in different ways. For example, we can iterate through the atoms or bonds:"
   ]
  },
  {
   "cell_type": "code",
   "execution_count": 4,
   "metadata": {},
   "outputs": [
    {
     "name": "stdout",
     "output_type": "stream",
     "text": [
      "Atom element: C, atomic number: 6, number of hydrogens 3\n",
      "Atom element: C, atomic number: 6, number of hydrogens 0\n",
      "Atom element: O, atomic number: 8, number of hydrogens 0\n",
      "Atom element: N, atomic number: 7, number of hydrogens 1\n",
      "Atom element: C, atomic number: 6, number of hydrogens 0\n",
      "Atom element: C, atomic number: 6, number of hydrogens 1\n",
      "Atom element: C, atomic number: 6, number of hydrogens 1\n",
      "Atom element: C, atomic number: 6, number of hydrogens 0\n",
      "Atom element: O, atomic number: 8, number of hydrogens 1\n",
      "Atom element: C, atomic number: 6, number of hydrogens 1\n",
      "Atom element: C, atomic number: 6, number of hydrogens 1\n",
      "\n",
      "\n",
      "\n",
      "Bond from 0 to 1 and is of type SINGLE.\n",
      "Bond from 1 to 2 and is of type DOUBLE.\n",
      "Bond from 1 to 3 and is of type SINGLE.\n",
      "Bond from 3 to 4 and is of type SINGLE.\n",
      "Bond from 4 to 5 and is of type AROMATIC.\n",
      "Bond from 5 to 6 and is of type AROMATIC.\n",
      "Bond from 6 to 7 and is of type AROMATIC.\n",
      "Bond from 7 to 8 and is of type SINGLE.\n",
      "Bond from 7 to 9 and is of type AROMATIC.\n",
      "Bond from 9 to 10 and is of type AROMATIC.\n",
      "Bond from 10 to 4 and is of type AROMATIC.\n"
     ]
    }
   ],
   "source": [
    "# Iterate through the atoms. Print their symbol,  atomic number, and number of Hydrogens\n",
    "for atm in paracetemol_mol.GetAtoms():\n",
    "    print(f\"Atom element: {atm.GetSymbol()}, atomic number: {atm.GetAtomicNum()}, number of hydrogens {atm.GetTotalNumHs()}\")\n",
    "\n",
    "    \n",
    "print(\"\\n\\n\")\n",
    "\n",
    "\n",
    "# Iterate through the bonds\n",
    "for bnd in paracetemol_mol.GetBonds():\n",
    "    print(f\"Bond from {bnd.GetBeginAtomIdx()} to {bnd.GetEndAtomIdx()} and is of type {bnd.GetBondType()}.\")\n"
   ]
  },
  {
   "cell_type": "markdown",
   "metadata": {},
   "source": [
    "Note that when we iterated through the atoms we also printed the number of hydrogen atoms attached. You may have spotted that these hydrogen atoms were not included in the original SMILES string. In general we ignore the hydrogen atoms (they are treated implicitly) but we can include them in SMILES strings if we wanted:"
   ]
  },
  {
   "cell_type": "code",
   "execution_count": 5,
   "metadata": {},
   "outputs": [
    {
     "name": "stdout",
     "output_type": "stream",
     "text": [
      "[CH3][C](=[O])[NH][c]1[cH][cH][c]([OH])[cH][cH]1\n"
     ]
    }
   ],
   "source": [
    "print(Chem.MolToSmiles(paracetemol_mol, allHsExplicit=True))"
   ]
  },
  {
   "cell_type": "markdown",
   "metadata": {},
   "source": [
    "### Numbers of atoms of molecule\n",
    "\n",
    "The size of a molecule can be approximated by a number of atoms in it. Let's extract corresponding values from MOL. RDkit provides GetNumAtoms() "
   ]
  },
  {
   "cell_type": "code",
   "execution_count": 6,
   "metadata": {},
   "outputs": [
    {
     "name": "stdout",
     "output_type": "stream",
     "text": [
      "Number of total atoms in paracetamol : 20\n",
      "Number of atoms in paracetamol (excluding H): 11\n"
     ]
    },
    {
     "data": {
      "image/png": "[encoded data removed]",
      "text/plain": [
       "<rdkit.Chem.rdchem.Mol at 0x2b3d632c850>"
      ]
     },
     "execution_count": 6,
     "metadata": {},
     "output_type": "execute_result"
    }
   ],
   "source": [
    "# AddHs function adds H atoms to a MOL (as Hs in SMILES are usualy ignored)\n",
    "# GetNumAtoms() method returns a general nubmer of all atoms in a molecule including H\n",
    "\n",
    "\n",
    "paracetemol_mol_with_H = Chem.AddHs(paracetemol_mol)\n",
    "\n",
    "print('Number of total atoms in paracetamol :', paracetemol_mol_with_H.GetNumAtoms())\n",
    "print('Number of atoms in paracetamol (excluding H):', paracetemol_mol.GetNumAtoms())\n",
    "\n",
    "paracetemol_mol_with_H"
   ]
  },
  {
   "cell_type": "markdown",
   "metadata": {},
   "source": [
    "### Descriptors\n",
    "A number of general molecular descriptors that can also be used to featurize a molecule are provided by `rdkit.Chem.Descriptors` and `rdkit.Chem.rdMolDescriptors`. Bellow we can see some examples. More examples and a detailed descripton you can find in **RDKit** documantation.\n",
    "\n"
   ]
  },
  {
   "cell_type": "code",
   "execution_count": 7,
   "metadata": {},
   "outputs": [
    {
     "name": "stdout",
     "output_type": "stream",
     "text": [
      "Number of heavy atoms in paracetamol: 11\n",
      "Average molecular weight ignoring hydrogens: 142.093\n",
      "logP in paracetamol: 1.3505999999999998\n",
      "drug-likeness: 0.5950261967780849\n",
      "Molecular weight: 151.165\n",
      "Number of ring: 1\n",
      "Number of H-bond donors: 2\n",
      "Number of H-bond acceptors: 2\n"
     ]
    }
   ],
   "source": [
    "# Descriptors.HeavyAtomCount returns a nubmer of all atoms in a molecule with molecular weight > 1\n",
    "# Descriptors.HeavyAtomMolWt the average molecular weight of the molecule ignoring hydrogens\n",
    "# Descriptors.MolLogP returns the Octanol-water partition coefficient\n",
    "# Descriptors.qed returns the drug-likeness \n",
    "# Descriptors.MolW returns the Molecular weight\n",
    "# Descriptors.NumRotatableBonds returns the number of rotatable bond\n",
    "# ...\n",
    "\n",
    "desc_HeavyAtomCount = Descriptors.HeavyAtomCount(paracetemol_mol)\n",
    "desc_HeavyAtomMolWt = Descriptors.HeavyAtomMolWt(paracetemol_mol)\n",
    "desc_MolLogP = Descriptors.MolLogP(paracetemol_mol)\n",
    "desc_qed = Descriptors.qed(paracetemol_mol)\n",
    "desc_MolWt = Descriptors.MolWt(paracetemol_mol)\n",
    "desc_NumRotatableBonds = Descriptors.NumRotatableBonds(paracetemol_mol)\n",
    "\n",
    "print('Number of heavy atoms in paracetamol:', desc_HeavyAtomCount)\n",
    "print('Average molecular weight ignoring hydrogens:', desc_HeavyAtomMolWt)\n",
    "\n",
    "print('logP in paracetamol:', desc_MolLogP)\n",
    "print('drug-likeness:', desc_qed)\n",
    "print('Molecular weight:', desc_MolWt)\n",
    "\n",
    "\n",
    "# rdMolDescriptors.CalcNumRings returns the number of rings for a molecule\n",
    "# rdMolDescriptors.CalcNumHBD returns the number of H-bond donors for a molecule\n",
    "# rdMolDescriptors.CalcNumHBA returns the number of H-bond acceptors for a molecule\n",
    "# ...\n",
    "\n",
    "num_rings = rdMolDescriptors.CalcNumRings(paracetemol_mol)\n",
    "num_H_donors = rdMolDescriptors.CalcNumHBD(paracetemol_mol)\n",
    "num_H_acceptors = rdMolDescriptors.CalcNumHBA(paracetemol_mol)\n",
    "\n",
    "print('Number of ring:', num_rings)\n",
    "print('Number of H-bond donors:', num_H_donors)\n",
    "print('Number of H-bond acceptors:', num_H_acceptors)\n",
    "\n"
   ]
  },
  {
   "cell_type": "markdown",
   "metadata": {},
   "source": [
    "## Defining and viewing a set of example molecules\n"
   ]
  },
  {
   "cell_type": "code",
   "execution_count": 8,
   "metadata": {},
   "outputs": [],
   "source": [
    "naphthalene = Chem.MolFromSmiles('c12ccccc1cccc2')\n",
    "benzoxazole = Chem.MolFromSmiles('n1c2ccccc2oc1')\n",
    "indane = Chem.MolFromSmiles('c1ccc2c(c1)CCC2')\n",
    "skatole = Chem.MolFromSmiles('CC1=CNC2=CC=CC=C12')\n",
    "benzene = Chem.MolFromSmiles('c1ccccc1')\n",
    "quinoline = Chem.MolFromSmiles('n1cccc2ccccc12')\n",
    "\n",
    "my_molecules = [naphthalene, \n",
    "                benzoxazole,\n",
    "                indane,\n",
    "                skatole,\n",
    "                benzene,\n",
    "                quinoline,\n",
    "               ]"
   ]
  },
  {
   "cell_type": "markdown",
   "metadata": {},
   "source": [
    "It's easy to get a look at the structure of these molecules.\n",
    "\n"
   ]
  },
  {
   "cell_type": "code",
   "execution_count": 9,
   "metadata": {},
   "outputs": [
    {
     "data": {
      "image/png": "[encoded data removed]",
      "text/plain": [
       "<PIL.PngImagePlugin.PngImageFile image mode=RGB size=600x400 at 0x2B3D6345E88>"
      ]
     },
     "execution_count": 9,
     "metadata": {},
     "output_type": "execute_result"
    }
   ],
   "source": [
    "Draw.MolsToGridImage(my_molecules)\n"
   ]
  },
  {
   "cell_type": "markdown",
   "metadata": {},
   "source": [
    "# Importing  the dataset"
   ]
  },
  {
   "cell_type": "code",
   "execution_count": 3,
   "metadata": {},
   "outputs": [],
   "source": [
    "from utils import *"
   ]
  },
  {
   "cell_type": "code",
   "execution_count": 4,
   "metadata": {},
   "outputs": [],
   "source": [
    "file_data = './dataset/data.csv'\n"
   ]
  },
  {
   "cell_type": "markdown",
   "metadata": {},
   "source": [
    "## Quick view of data"
   ]
  },
  {
   "cell_type": "code",
   "execution_count": 149,
   "metadata": {},
   "outputs": [],
   "source": [
    "df = pd.read_csv(file_data)\n",
    "df = df.dropna()"
   ]
  },
  {
   "cell_type": "code",
   "execution_count": 150,
   "metadata": {},
   "outputs": [
    {
     "data": {
      "text/html": [
       "<div>\n",
       "<style scoped>\n",
       "    .dataframe tbody tr th:only-of-type {\n",
       "        vertical-align: middle;\n",
       "    }\n",
       "\n",
       "    .dataframe tbody tr th {\n",
       "        vertical-align: top;\n",
       "    }\n",
       "\n",
       "    .dataframe thead th {\n",
       "        text-align: right;\n",
       "    }\n",
       "</style>\n",
       "<table border=\"1\" class=\"dataframe\">\n",
       "  <thead>\n",
       "    <tr style=\"text-align: right;\">\n",
       "      <th></th>\n",
       "      <th>Chiral_Molecular_SMILES</th>\n",
       "      <th>Energy_(kcal/mol)</th>\n",
       "      <th>Zero_point_energy_(kcal/mol@0K)</th>\n",
       "      <th>Enthalpy_(kcal/mol@298K)</th>\n",
       "      <th>Gibbs_energy_(kcal/mol@298K)</th>\n",
       "      <th>Energy DG:kcal/mol)</th>\n",
       "      <th>PMI1</th>\n",
       "      <th>PMI2</th>\n",
       "      <th>PMI3</th>\n",
       "      <th>NPR1</th>\n",
       "      <th>...</th>\n",
       "      <th>Asphericity</th>\n",
       "      <th>Eccentricity</th>\n",
       "      <th>Core_Core_Repulsion_(kcal/mol)</th>\n",
       "      <th>Core_Hamiltonian_(kcal/mol)</th>\n",
       "      <th>Two_Electron_Integral_(kcal/mol)</th>\n",
       "      <th>Electronic_Energy_(kcal/mol)</th>\n",
       "      <th>Heat_of_Formation_(kcal/mol)</th>\n",
       "      <th>HOMO_Energy__(eV)</th>\n",
       "      <th>LUMO_Energy_(eV)</th>\n",
       "      <th>H-L_Gap_(eV)</th>\n",
       "    </tr>\n",
       "  </thead>\n",
       "  <tbody>\n",
       "    <tr>\n",
       "      <th>0</th>\n",
       "      <td>Fc1ccc(cc1)c1cn[nH]c1N</td>\n",
       "      <td>-51177.14356</td>\n",
       "      <td>93.711236</td>\n",
       "      <td>101.010221</td>\n",
       "      <td>72.646019</td>\n",
       "      <td>-51104.49754</td>\n",
       "      <td>15.116918</td>\n",
       "      <td>1138.689784</td>\n",
       "      <td>1276.446124</td>\n",
       "      <td>0.152023</td>\n",
       "      <td>...</td>\n",
       "      <td>0.611914</td>\n",
       "      <td>0.988377</td>\n",
       "      <td>209590.8432</td>\n",
       "      <td>-82616.31512</td>\n",
       "      <td>-356305.3370</td>\n",
       "      <td>-260768.9836</td>\n",
       "      <td>19.369701</td>\n",
       "      <td>-0.325429</td>\n",
       "      <td>-0.006221</td>\n",
       "      <td>0.319207</td>\n",
       "    </tr>\n",
       "    <tr>\n",
       "      <th>1</th>\n",
       "      <td>Fc1ccc(cc1)c1cn[nH]c1N</td>\n",
       "      <td>-51177.14356</td>\n",
       "      <td>93.716622</td>\n",
       "      <td>101.010607</td>\n",
       "      <td>72.676293</td>\n",
       "      <td>-51104.46727</td>\n",
       "      <td>55.760384</td>\n",
       "      <td>2320.928165</td>\n",
       "      <td>2603.438182</td>\n",
       "      <td>0.277877</td>\n",
       "      <td>...</td>\n",
       "      <td>0.386631</td>\n",
       "      <td>0.960616</td>\n",
       "      <td>423156.7216</td>\n",
       "      <td>-118968.29190</td>\n",
       "      <td>-755464.2531</td>\n",
       "      <td>-496700.4184</td>\n",
       "      <td>-63.125192</td>\n",
       "      <td>-0.357174</td>\n",
       "      <td>-0.031290</td>\n",
       "      <td>0.325884</td>\n",
       "    </tr>\n",
       "    <tr>\n",
       "      <th>2</th>\n",
       "      <td>O=C(c1ccccc1)O[C@H]1c2ccccc2C(=O)N1C</td>\n",
       "      <td>-73542.31526</td>\n",
       "      <td>150.283189</td>\n",
       "      <td>161.552872</td>\n",
       "      <td>122.934889</td>\n",
       "      <td>-73419.38037</td>\n",
       "      <td>16.723606</td>\n",
       "      <td>1358.577969</td>\n",
       "      <td>1573.221539</td>\n",
       "      <td>0.161400</td>\n",
       "      <td>...</td>\n",
       "      <td>0.592709</td>\n",
       "      <td>0.986863</td>\n",
       "      <td>202454.7033</td>\n",
       "      <td>-81529.04355</td>\n",
       "      <td>-343358.5290</td>\n",
       "      <td>-253208.3080</td>\n",
       "      <td>11.846054</td>\n",
       "      <td>-0.326917</td>\n",
       "      <td>-0.027046</td>\n",
       "      <td>0.299870</td>\n",
       "    </tr>\n",
       "    <tr>\n",
       "      <th>3</th>\n",
       "      <td>O=C(c1ccccc1)O[C@H]1c2ccccc2C(=O)N1C</td>\n",
       "      <td>-73542.31444</td>\n",
       "      <td>150.296914</td>\n",
       "      <td>161.555511</td>\n",
       "      <td>123.082139</td>\n",
       "      <td>-73419.23230</td>\n",
       "      <td>35.725474</td>\n",
       "      <td>1045.051233</td>\n",
       "      <td>1174.934149</td>\n",
       "      <td>0.400795</td>\n",
       "      <td>...</td>\n",
       "      <td>0.235944</td>\n",
       "      <td>0.914903</td>\n",
       "      <td>350422.3801</td>\n",
       "      <td>-94499.59329</td>\n",
       "      <td>-629142.5208</td>\n",
       "      <td>-409070.8537</td>\n",
       "      <td>-94.228188</td>\n",
       "      <td>-0.342692</td>\n",
       "      <td>0.007355</td>\n",
       "      <td>0.350046</td>\n",
       "    </tr>\n",
       "    <tr>\n",
       "      <th>4</th>\n",
       "      <td>O=C(c1ccccc1)O[C@@H]1c2ccccc2C(=O)N1C</td>\n",
       "      <td>-73542.31445</td>\n",
       "      <td>150.299719</td>\n",
       "      <td>161.554575</td>\n",
       "      <td>123.129949</td>\n",
       "      <td>-73419.18450</td>\n",
       "      <td>38.861689</td>\n",
       "      <td>1717.118190</td>\n",
       "      <td>1838.665112</td>\n",
       "      <td>0.270299</td>\n",
       "      <td>...</td>\n",
       "      <td>0.402459</td>\n",
       "      <td>0.962733</td>\n",
       "      <td>343048.4259</td>\n",
       "      <td>-101348.46490</td>\n",
       "      <td>-609028.2103</td>\n",
       "      <td>-405862.5701</td>\n",
       "      <td>-38.218309</td>\n",
       "      <td>-0.364205</td>\n",
       "      <td>-0.010251</td>\n",
       "      <td>0.353954</td>\n",
       "    </tr>\n",
       "  </tbody>\n",
       "</table>\n",
       "<p>5 rows × 24 columns</p>\n",
       "</div>"
      ],
      "text/plain": [
       "                 Chiral_Molecular_SMILES  Energy_(kcal/mol)  \\\n",
       "0                 Fc1ccc(cc1)c1cn[nH]c1N       -51177.14356   \n",
       "1                 Fc1ccc(cc1)c1cn[nH]c1N       -51177.14356   \n",
       "2   O=C(c1ccccc1)O[C@H]1c2ccccc2C(=O)N1C       -73542.31526   \n",
       "3   O=C(c1ccccc1)O[C@H]1c2ccccc2C(=O)N1C       -73542.31444   \n",
       "4  O=C(c1ccccc1)O[C@@H]1c2ccccc2C(=O)N1C       -73542.31445   \n",
       "\n",
       "   Zero_point_energy_(kcal/mol@0K)  Enthalpy_(kcal/mol@298K)  \\\n",
       "0                        93.711236                101.010221   \n",
       "1                        93.716622                101.010607   \n",
       "2                       150.283189                161.552872   \n",
       "3                       150.296914                161.555511   \n",
       "4                       150.299719                161.554575   \n",
       "\n",
       "   Gibbs_energy_(kcal/mol@298K)  Energy DG:kcal/mol)       PMI1         PMI2  \\\n",
       "0                     72.646019         -51104.49754  15.116918  1138.689784   \n",
       "1                     72.676293         -51104.46727  55.760384  2320.928165   \n",
       "2                    122.934889         -73419.38037  16.723606  1358.577969   \n",
       "3                    123.082139         -73419.23230  35.725474  1045.051233   \n",
       "4                    123.129949         -73419.18450  38.861689  1717.118190   \n",
       "\n",
       "          PMI3      NPR1  ...  Asphericity  Eccentricity  \\\n",
       "0  1276.446124  0.152023  ...     0.611914      0.988377   \n",
       "1  2603.438182  0.277877  ...     0.386631      0.960616   \n",
       "2  1573.221539  0.161400  ...     0.592709      0.986863   \n",
       "3  1174.934149  0.400795  ...     0.235944      0.914903   \n",
       "4  1838.665112  0.270299  ...     0.402459      0.962733   \n",
       "\n",
       "   Core_Core_Repulsion_(kcal/mol)  Core_Hamiltonian_(kcal/mol)  \\\n",
       "0                     209590.8432                 -82616.31512   \n",
       "1                     423156.7216                -118968.29190   \n",
       "2                     202454.7033                 -81529.04355   \n",
       "3                     350422.3801                 -94499.59329   \n",
       "4                     343048.4259                -101348.46490   \n",
       "\n",
       "   Two_Electron_Integral_(kcal/mol)  Electronic_Energy_(kcal/mol)  \\\n",
       "0                      -356305.3370                  -260768.9836   \n",
       "1                      -755464.2531                  -496700.4184   \n",
       "2                      -343358.5290                  -253208.3080   \n",
       "3                      -629142.5208                  -409070.8537   \n",
       "4                      -609028.2103                  -405862.5701   \n",
       "\n",
       "   Heat_of_Formation_(kcal/mol)  HOMO_Energy__(eV)  LUMO_Energy_(eV)  \\\n",
       "0                     19.369701          -0.325429         -0.006221   \n",
       "1                    -63.125192          -0.357174         -0.031290   \n",
       "2                     11.846054          -0.326917         -0.027046   \n",
       "3                    -94.228188          -0.342692          0.007355   \n",
       "4                    -38.218309          -0.364205         -0.010251   \n",
       "\n",
       "   H-L_Gap_(eV)  \n",
       "0      0.319207  \n",
       "1      0.325884  \n",
       "2      0.299870  \n",
       "3      0.350046  \n",
       "4      0.353954  \n",
       "\n",
       "[5 rows x 24 columns]"
      ]
     },
     "execution_count": 150,
     "metadata": {},
     "output_type": "execute_result"
    }
   ],
   "source": [
    "df.head()"
   ]
  },
  {
   "cell_type": "code",
   "execution_count": 151,
   "metadata": {},
   "outputs": [
    {
     "name": "stdout",
     "output_type": "stream",
     "text": [
      "Total number of data =  10167\n"
     ]
    }
   ],
   "source": [
    "print(\"Total number of data = \" , df.shape[0])"
   ]
  },
  {
   "cell_type": "markdown",
   "metadata": {},
   "source": [
    "## Smiles"
   ]
  },
  {
   "cell_type": "code",
   "execution_count": 8,
   "metadata": {},
   "outputs": [],
   "source": [
    "# get smiles, alphabet and length of largest molecule in SMILES from the dataset\n",
    "smiles, alphabet, largest_molecule_len = get_smiles_encodings(file_data)"
   ]
  },
  {
   "cell_type": "code",
   "execution_count": 9,
   "metadata": {},
   "outputs": [
    {
     "name": "stdout",
     "output_type": "stream",
     "text": [
      "alphabet: ['r', '\\\\', 'l', 'I', '[', ']', 'n', '+', ')', '1', 'c', '3', '4', 'O', '#', 'H', '2', '=', '/', 'P', 'S', '(', '@', '-', 'C', 'B', 'F', 'o', 'N', 's', ' ']\n",
      "length of the alphabet: 31\n",
      "length of largest molecule: 68\n",
      "some smiles: ['CCCBr' 'CCCBr' 'CCCBr' 'CCCCOC(=O)CC(=O)OCCCC' 'CCCCOC(=O)CC(=O)OCCCC'\n",
      " 'CCCCOC(=O)CC(=O)OCCCC']\n"
     ]
    }
   ],
   "source": [
    "print('alphabet:', alphabet)\n",
    "print('length of the alphabet:', len(alphabet))\n",
    "print('length of largest molecule:',largest_molecule_len)\n",
    "print('some smiles:', smiles[2443:2449])"
   ]
  },
  {
   "cell_type": "markdown",
   "metadata": {},
   "source": [
    "## One Hot Encoding\n",
    "\n",
    "One-hot encoding is a sparse way of representing data in a binary string in which only a single bit can be 1, while all others are 0. In the case of molecular graphs represented as a string, one-hot-encoding consists of encoding each character of the string with a binary vector.\n"
   ]
  },
  {
   "cell_type": "code",
   "execution_count": 10,
   "metadata": {},
   "outputs": [
    {
     "name": "stdout",
     "output_type": "stream",
     "text": [
      "OCC([N+](=O)[O-])(CO)CO\n"
     ]
    }
   ],
   "source": [
    "# Convert a single smile string to a one-hot encoding\n",
    "idx = 1245\n",
    "print(smiles[idx])\n",
    "integer_encoded, onehot_smile = smile_to_hot(smiles[idx], largest_molecule_len, alphabet)"
   ]
  },
  {
   "cell_type": "code",
   "execution_count": 11,
   "metadata": {},
   "outputs": [
    {
     "data": {
      "text/plain": [
       "(68, 31)"
      ]
     },
     "execution_count": 11,
     "metadata": {},
     "output_type": "execute_result"
    }
   ],
   "source": [
    "onehot_smile.shape"
   ]
  },
  {
   "cell_type": "code",
   "execution_count": 12,
   "metadata": {},
   "outputs": [
    {
     "name": "stdout",
     "output_type": "stream",
     "text": [
      "smile string: OCC([N+](=O)[O-])(CO)CO\n",
      "one-hot encoded smile: [[0 0 0 ... 0 0 0]\n",
      " [0 0 0 ... 0 0 0]\n",
      " [0 0 0 ... 0 0 0]\n",
      " ...\n",
      " [0 0 0 ... 0 0 1]\n",
      " [0 0 0 ... 0 0 1]\n",
      " [0 0 0 ... 0 0 1]]\n"
     ]
    },
    {
     "data": {
      "image/png": "[encoded data removed]",
      "text/plain": [
       "<PIL.PngImagePlugin.PngImageFile image mode=RGB size=300x300 at 0x286A4780FC8>"
      ]
     },
     "execution_count": 12,
     "metadata": {},
     "output_type": "execute_result"
    }
   ],
   "source": [
    "print('smile string:', smiles[idx])\n",
    "print('one-hot encoded smile:', onehot_smile)\n",
    "\n",
    "\n",
    "mol = Chem.MolFromSmiles(smiles[idx])\n",
    "\n",
    "Draw.MolToImage(mol)"
   ]
  },
  {
   "cell_type": "markdown",
   "metadata": {},
   "source": [
    "## Split the data \n",
    " Split the data to train test (after cleaning the data)\n",
    " "
   ]
  },
  {
   "cell_type": "code",
   "execution_count": 188,
   "metadata": {},
   "outputs": [
    {
     "name": "stdout",
     "output_type": "stream",
     "text": [
      "train shape: (7116, 24)\n",
      "test shape: (3051, 24)\n"
     ]
    }
   ],
   "source": [
    "# Split data to train and test\n",
    "data_ = np.asanyarray(df)\n",
    "train, test = load_data(data_)\n",
    "print('train shape:', train.shape)\n",
    "print('test shape:', test.shape)\n"
   ]
  },
  {
   "cell_type": "code",
   "execution_count": 186,
   "metadata": {},
   "outputs": [
    {
     "name": "stdout",
     "output_type": "stream",
     "text": [
      "-55840.68284013904\n",
      "0.2502787899388286\n"
     ]
    },
    {
     "data": {
      "text/plain": [
       "(array([   7.,   24.,   40.,  194.,  542., 1183., 1071., 1565., 1712.,\n",
       "        1557., 1193.,  680.,  249.,  123.,   27.]),\n",
       " array([-108619.3796, -102177.14145, -95734.9033, -89292.66515, -82850.427,\n",
       "        -76408.18885, -69965.9507, -63523.71255, -57081.4744, -50639.23625,\n",
       "        -44196.9981, -37754.75994999999, -31312.521800000002,\n",
       "        -24870.283649999998, -18428.045499999993, -11985.80735],\n",
       "       dtype=object),\n",
       " <BarContainer object of 15 artists>)"
      ]
     },
     "execution_count": 186,
     "metadata": {},
     "output_type": "execute_result"
    },
    {
     "data": {
      "image/png": "[encoded data removed]",
      "text/plain": [
       "<Figure size 432x288 with 1 Axes>"
      ]
     },
     "metadata": {
      "needs_background": "light"
     },
     "output_type": "display_data"
    }
   ],
   "source": [
    "m = np.mean(train[:,1])\n",
    "err = np.mean(np.abs((test[:,1]-m)/test[:,1]))\n",
    "print(m)\n",
    "print(err)\n",
    "plt.hist(data_[:,1],15)"
   ]
  },
  {
   "cell_type": "code",
   "execution_count": 189,
   "metadata": {},
   "outputs": [
    {
     "name": "stdout",
     "output_type": "stream",
     "text": [
      "0.02905927180930207\n"
     ]
    },
    {
     "name": "stderr",
     "output_type": "stream",
     "text": [
      "C:\\Users\\amanm\\Anaconda3\\envs\\DM_project\\lib\\site-packages\\sklearn\\decomposition\\_pca.py:593: RuntimeWarning: overflow encountered in square\n",
      "  self.explained_variance_ = (S ** 2) / (n_samples - 1)\n",
      "C:\\Users\\amanm\\Anaconda3\\envs\\DM_project\\lib\\site-packages\\numpy\\core\\_methods.py:233: RuntimeWarning: overflow encountered in multiply\n",
      "  x = um.multiply(x, x, out=x)\n",
      "C:\\Users\\amanm\\Anaconda3\\envs\\DM_project\\lib\\site-packages\\sklearn\\decomposition\\_pca.py:595: RuntimeWarning: invalid value encountered in true_divide\n",
      "  self.explained_variance_ratio_ = self.explained_variance_ / total_var.sum()\n",
      "C:\\Users\\amanm\\Anaconda3\\envs\\DM_project\\lib\\site-packages\\sklearn\\decomposition\\_pca.py:599: RuntimeWarning: invalid value encountered in double_scalars\n",
      "  self.noise_variance_ = total_var.sum() - self.explained_variance_.sum()\n",
      "C:\\Users\\amanm\\Anaconda3\\envs\\DM_project\\lib\\site-packages\\numpy\\core\\_methods.py:233: RuntimeWarning: overflow encountered in multiply\n",
      "  x = um.multiply(x, x, out=x)\n",
      "C:\\Users\\amanm\\Desktop\\TPDataMining\\Project_DM_2022\\Project_DM_2022\\utils.py:82: RuntimeWarning: invalid value encountered in double_scalars\n",
      "  y = (y-m)/s\n"
     ]
    }
   ],
   "source": [
    "from sklearn import svm\n",
    "from sklearn import linear_model\n",
    "from sklearn.decomposition import PCA\n",
    "pca = PCA(n_components=3)\n",
    "\n",
    "regr = linear_model.Lasso(alpha=0.1)\n",
    "#regr = svm.SVR()\n",
    "y_train = train[:,1]\n",
    "X_train = train[:,4:]\n",
    "pca.fit(X_train)\n",
    "\n",
    "\n",
    "\n",
    "y_test = test[:,1]\n",
    "X_test = test[:,4:]\n",
    "\n",
    "\n",
    "X_trans = pca.transform(X_train)\n",
    "X_tran = pca.transform(X_test)\n",
    "(X_trans,y_train,m,s) = normalise(X_trans,y_train)\n",
    "(X_tran,a,b,c) = normalise(X_tran,0)\n",
    "regr.fit(X_trans,y_train)\n",
    "pred = regr.predict(X_tran)\n",
    "\n",
    "pred = pred*s+m\n",
    "\n",
    "err = np.mean(np.abs((pred-y_test)/y_test))\n",
    "print(err)"
   ]
  }
 ],
 "metadata": {
  "kernelspec": {
   "display_name": "Python 3 (ipykernel)",
   "language": "python",
   "name": "python3"
  },
  "language_info": {
   "codemirror_mode": {
    "name": "ipython",
    "version": 3
   },
   "file_extension": ".py",
   "mimetype": "text/x-python",
   "name": "python",
   "nbconvert_exporter": "python",
   "pygments_lexer": "ipython3",
   "version": "3.7.13"
  }
 },
 "nbformat": 4,
 "nbformat_minor": 4
}
